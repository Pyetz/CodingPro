{
 "cells": [
  {
   "cell_type": "markdown",
   "metadata": {},
   "source": [
    "# 44 Bài tập kết hợp If-Else với Vòng lặp"
   ]
  },
  {
   "cell_type": "markdown",
   "metadata": {},
   "source": [
    "Vẽ hình bằng if-else và vòng lặp là một trong những cách hiệu quả để nâng cao tư duy lập trình."
   ]
  },
  {
   "cell_type": "markdown",
   "metadata": {},
   "source": [
    "Bài học hôm nay khá thử thách. Tuy nhiên hãy luyện tập, có thể sử dụng các công cụ hỗ trợ như ChatGPT hay các chatbot khác."
   ]
  },
  {
   "cell_type": "markdown",
   "metadata": {},
   "source": [
    "Click vào [Link bài tập](https://www.w3resource.com/python-exercises/python-conditional-statements-and-loop-exercises.php) để xem đề và tạo 44 ô code tương ứng 44 bài, mỗi ô bắt đầu bằng comment tên bài để làm nhé!"
   ]
  },
  {
   "cell_type": "markdown",
   "metadata": {},
   "source": [
    "Chúc các bạn học tốt!"
   ]
  },
  {
   "cell_type": "code",
   "execution_count": null,
   "metadata": {},
   "outputs": [],
   "source": [
    "# BT1"
   ]
  },
  {
   "cell_type": "code",
   "execution_count": null,
   "metadata": {},
   "outputs": [],
   "source": [
    "# BT2"
   ]
  },
  {
   "cell_type": "code",
   "execution_count": null,
   "metadata": {},
   "outputs": [],
   "source": [
    "# BT..."
   ]
  }
 ],
 "metadata": {
  "language_info": {
   "name": "python"
  }
 },
 "nbformat": 4,
 "nbformat_minor": 2
}
