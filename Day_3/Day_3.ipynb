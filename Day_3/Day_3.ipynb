{
 "cells": [
  {
   "cell_type": "markdown",
   "metadata": {},
   "source": [
    "# A. Lý thuyết"
   ]
  },
  {
   "cell_type": "markdown",
   "metadata": {},
   "source": [
    "## I. Hàm (function)"
   ]
  },
  {
   "cell_type": "markdown",
   "metadata": {},
   "source": [
    "### 1. Tiếp cận hàm"
   ]
  },
  {
   "cell_type": "markdown",
   "metadata": {},
   "source": [
    "Trong toán học, bạn đã quen thuộc với hàm, ví dụ như f(x) = 3x^2 + 2x + 1. Khi bạn truyền 1 số vào hàm, vd số 4 -> f(4) = 3.4^2 + 2.4 + 1 = 57. Vậy ta có thể hình dung hàm là cố định, và ta có thể sử dụ nó nhiều lần trong nhiều trường hợp, và khi truyền gì đó vào hàm, ta sẽ nhận được một cái gì đó khác"
   ]
  },
  {
   "cell_type": "markdown",
   "metadata": {},
   "source": [
    "Trong lập trình, hàm có thể làm được nhiều thao tác hơn (thay vì chỉ truyền vào 1 số và nhận lại được kết quả như hàm toán học). Hãy so sánh 2 sơ đồ sau để thấy sự tương quan:"
   ]
  },
  {
   "cell_type": "markdown",
   "metadata": {},
   "source": [
    "- Hàm toán học: (1 hoặc nhiều số) -đi vào-> hàm (f(x, y, z...)) -thực hiện-> 1 số thao tác có thể nhìn thấy được -nhận về-> 1 số\n",
    "- Hàm lập trình: (tập hợp 1 hoặc nhiều thứ) -đi vào-> hàm -thực hiện-> 1 số thao tác có thể nhìn thấy được -nhận về-> 1 hoặc nhiều thứ"
   ]
  },
  {
   "cell_type": "markdown",
   "metadata": {},
   "source": [
    "Trong đó:\n",
    "- 1 số thao tác không nhìn thấy được của bên toán học là phép tính 3.4^2 + 2.4 + 1\n",
    "- 'nhiều thứ' ở đây có thể là 1 hoặc nhiều, và bất kì biến/giá trị/... với bấy kỳ kiểu dữ liệu nào (bao gồm int, float, string, tuple, list, dict, .....)\n",
    "- các thao tác có thể nhìn thấy được như in ra, lấy input, ..."
   ]
  },
  {
   "cell_type": "markdown",
   "metadata": {},
   "source": [
    "#### Có 2 loại hàm:"
   ]
  },
  {
   "cell_type": "markdown",
   "metadata": {},
   "source": [
    "##### Hàm có sẵn (built-in function)"
   ]
  },
  {
   "cell_type": "markdown",
   "metadata": {},
   "source": [
    "Đây là các hàm đã được ngôn ngữ lập trình xây dựng sẵn cho bạn mà lâu nay bạn vẫn đang dùng và việc dùng hàm đó được hiểu là một lời gọi hàm. Khi dùng hàm, bạn có thể truyền vào gì đó và nhận được 1 kết quả gì đó"
   ]
  },
  {
   "cell_type": "markdown",
   "metadata": {},
   "source": [
    "Gồm các hàm print, type, bạn đã học, ngoài ra còn có input, sort, ... tuân theo cấu trúc tên hàm(các đối số sẽ được truyền vào hàm)"
   ]
  },
  {
   "cell_type": "code",
   "execution_count": null,
   "metadata": {},
   "outputs": [],
   "source": [
    "# mỗi lần bạn dùng code sau, bạn đang thực hiện 1 lời gọi hàm \n",
    "# và truyền 1 string vào hàm, và hàm sẽ thực hiện chức năng in string đó ra terminal\n",
    "\n",
    "print(\"Hello, World!\")"
   ]
  },
  {
   "cell_type": "code",
   "execution_count": null,
   "metadata": {},
   "outputs": [],
   "source": [
    "# mỗi lần bạn dùng code sau, bạn đang thực hiện 1 lời gọi hàm \n",
    "# và truyền 1 string vào 1 biến hoặc 1 số, và hàm sẽ thực hiện chức năng in kiểu dữ liệu của biến/số đó ra terminal\n",
    "\n",
    "type(\"Hello, World!\")"
   ]
  },
  {
   "cell_type": "markdown",
   "metadata": {},
   "source": [
    "Hãy học làm quen với khái niệm lời gọi hàm"
   ]
  },
  {
   "cell_type": "markdown",
   "metadata": {},
   "source": [
    "##### Tra thông tin về hàm"
   ]
  },
  {
   "cell_type": "markdown",
   "metadata": {},
   "source": [
    "giả sử hàm print (hoặc type), bạn không biết cần truyền gì vào hàm, bạn có thể dùng hàm help và truyền tên hàm print (hoặc type) vào hàm"
   ]
  },
  {
   "cell_type": "code",
   "execution_count": null,
   "metadata": {},
   "outputs": [],
   "source": [
    "help(print)"
   ]
  },
  {
   "cell_type": "code",
   "execution_count": null,
   "metadata": {},
   "outputs": [],
   "source": [
    "help(type)"
   ]
  },
  {
   "cell_type": "markdown",
   "metadata": {},
   "source": [
    "#### Hàm tự định nghĩa (user defined function)"
   ]
  },
  {
   "cell_type": "markdown",
   "metadata": {},
   "source": [
    "Trong thực tế, ngôn ngữ lập trình không thể xây dựng được hết tất cả các hàm. Vì thế nó hỗ trợ bạn tự tạo ra 1 hàm của riêng mình để thực hiện các chức năng bạn mong muốn. Trong bài học này, chúng ta sẽ chỉ tìm hiểu chi tiết về user defined function"
   ]
  },
  {
   "cell_type": "markdown",
   "metadata": {},
   "source": [
    "Cấu trúc của 1 hàm:\n",
    "```python\n",
    "def name(input: parameters):\n",
    "    do something\n",
    "    ...\n",
    "    return output\n",
    "```"
   ]
  },
  {
   "cell_type": "markdown",
   "metadata": {},
   "source": [
    "Trong đó:\n",
    "- Input và output có 1 hoặc nhiều hoặc không có\n",
    "- Return là thứ bạn muốn nhận về sau khi gọi hàm\n",
    "- Có thể có hoặc không có return. Nếu không có return, bạn sẽ nhận được ```None```"
   ]
  },
  {
   "cell_type": "markdown",
   "metadata": {},
   "source": [
    "Gọi hàm:\n",
    "```python\n",
    "name(input: arguments)\n",
    "```"
   ]
  },
  {
   "cell_type": "markdown",
   "metadata": {},
   "source": [
    "### 2. Những ứng dụng quan trọng"
   ]
  },
  {
   "cell_type": "markdown",
   "metadata": {},
   "source": [
    "#### 2.1. Tái sử dụng (tận dụng bước thực hiện): Bạn có thể dùng hàm để lặp đi lặp lại 1 thao tác nào đó: ví dụ bạn muốn mỗi lần gọi hàm sẽ in ra"
   ]
  },
  {
   "cell_type": "markdown",
   "metadata": {},
   "source": [
    "##### Ví dụ: bạn muốn in ra từ 1 đến 10 nhiều lần"
   ]
  },
  {
   "cell_type": "code",
   "execution_count": null,
   "metadata": {},
   "outputs": [],
   "source": [
    "# khai báo hàm\n",
    "def print_1_to_10():\n",
    "    for i in range (1, 11):\n",
    "        print(i)\n",
    "\n",
    "# cách gọi hàm\n",
    "print_1_to_10() # vì hàm không có tham số nên không cần truyền tham số vào hàm\n",
    "print_1_to_10() # có thể gọi hàm nhiều lần"
   ]
  },
  {
   "cell_type": "code",
   "execution_count": null,
   "metadata": {},
   "outputs": [],
   "source": [
    "# khai báo hàm\n",
    "def print_1_to_10():\n",
    "    for i in range (1, 11):\n",
    "        print(i)\n",
    "\n",
    "# hãy in hàm ra, vì nó không có return nên bạn sẽ nhận được None\n",
    "print(print_1_to_10())"
   ]
  },
  {
   "cell_type": "markdown",
   "metadata": {
    "vscode": {
     "languageId": "plaintext"
    }
   },
   "source": [
    "#### 2.2. Trả về (tận dụng bước nhận về): Bạn có thể dùng hàm để nhận được output tương ứng với input"
   ]
  },
  {
   "cell_type": "markdown",
   "metadata": {},
   "source": [
    "ví dụ bạn muốn xây dựng hàm toán học ở phần tiếp cận"
   ]
  },
  {
   "cell_type": "code",
   "execution_count": null,
   "metadata": {},
   "outputs": [],
   "source": [
    "def f(x):\n",
    "    return 3 * x**2 + 2 * x + 1\n",
    "\n",
    "# khi bạn gọi hàm, hàm sẽ tương đương với 1 giá trị ứng với đối số bạn truyền vào\n",
    "# bạn có thể in giá trị đó ra\n",
    "print(f(2))\n",
    "# hoặc bạn có thể lưu giá trị đó vào 1 biến\n",
    "result = f(2)\n",
    "print(result)"
   ]
  },
  {
   "cell_type": "markdown",
   "metadata": {},
   "source": [
    "Bạn có thể ứng dụng cả tính chất 1 và 2 trong cùng 1 hàm. Tuy nhiên điều này không được khuyến khích."
   ]
  },
  {
   "cell_type": "markdown",
   "metadata": {},
   "source": [
    "1 hàm chỉ nên thực hiện 1 trong 2 chức năng: hoặc thực hiện các hành động, hoặc sử dụng cho các tác vụ tính toán và nhận lại kết quả mà bạn mong muốn"
   ]
  },
  {
   "cell_type": "markdown",
   "metadata": {},
   "source": [
    "#### 2.3. Ngoài ra, hàm còn được dùng để đóng gói code cho mục đích dễ đọc hiểu hơn -> bạn nên chuyển các đoạn code dài về hàm để người khác và chính bạn dễ đọc hiểu code hơn"
   ]
  },
  {
   "cell_type": "markdown",
   "metadata": {},
   "source": [
    "#### 2.4. Luyện tập chuyển 1 đoạn code về hàm"
   ]
  },
  {
   "cell_type": "markdown",
   "metadata": {},
   "source": [
    "##### Vd1:"
   ]
  },
  {
   "cell_type": "code",
   "execution_count": null,
   "metadata": {},
   "outputs": [],
   "source": [
    "num = 10\n",
    "if num > 0:\n",
    "    print(\"Số dương\")\n",
    "else:\n",
    "    print(\"Không phải số dương\")"
   ]
  },
  {
   "cell_type": "markdown",
   "metadata": {},
   "source": [
    "Nhận thấy đoạn code trên dùng để kiểm tra 1 số có phải số dương hay không -> ta thực hiện viết hàm kiểm tra số dương"
   ]
  },
  {
   "cell_type": "code",
   "execution_count": null,
   "metadata": {},
   "outputs": [],
   "source": [
    "def is_positive(num):\n",
    "    if num > 0:\n",
    "        return True\n",
    "    else:\n",
    "        return False"
   ]
  },
  {
   "cell_type": "markdown",
   "metadata": {},
   "source": [
    "##### Vd2:"
   ]
  },
  {
   "cell_type": "code",
   "execution_count": null,
   "metadata": {},
   "outputs": [],
   "source": [
    "num = 10\n",
    "if num % 2 == 0:\n",
    "    print(\"Số chẵn\")\n",
    "else:\n",
    "    print(\"Số lẻ\")"
   ]
  },
  {
   "cell_type": "markdown",
   "metadata": {},
   "source": [
    "Nhận thấy đoạn code trên dùng để kiểm tra 1 số là số chẵn hoặc lẻ -> ta thực hiện viết hàm kiểm tra số đó là chẵn hay lẻ"
   ]
  },
  {
   "cell_type": "code",
   "execution_count": null,
   "metadata": {},
   "outputs": [],
   "source": [
    "def check_even_odd(number):\n",
    "    if number % 2 == 0:\n",
    "        return \"Even\"\n",
    "    else:\n",
    "        return \"Odd\""
   ]
  },
  {
   "cell_type": "markdown",
   "metadata": {},
   "source": [
    "#### 2.5. Một số lưu ý"
   ]
  },
  {
   "cell_type": "markdown",
   "metadata": {},
   "source": [
    "##### a. Trong python không có truyền tham chiếu (call by reference) như C/C++ mà chỉ có truyền tham trị (call by value)"
   ]
  },
  {
   "cell_type": "markdown",
   "metadata": {},
   "source": [
    "Nghĩa là các đối số được truyền vào hàm sẽ không bị thay đổi"
   ]
  },
  {
   "cell_type": "code",
   "execution_count": null,
   "metadata": {},
   "outputs": [],
   "source": [
    "def plus_1(x):\n",
    "    x+=1\n",
    "\n",
    "x = 10\n",
    "plus_1(x)\n",
    "print(x) # x vẫn là 10"
   ]
  },
  {
   "cell_type": "markdown",
   "metadata": {},
   "source": [
    "##### b. Tuy nhiên, hàm trong python có thể trả về nhiều đối tượng cùng lúc, và nếu có nhiều đối tượng được trả về, nó sẽ ở dạng 1 tuple và bạn có thể dùng số biến tương ứng để chứa các đối tượng trả về này"
   ]
  },
  {
   "cell_type": "markdown",
   "metadata": {},
   "source": [
    "Bạn sẽ được học tuple ở ngày tiếp theo. Còn hiện tại, bạn có thể tạm hiểu nó như một mảng"
   ]
  },
  {
   "cell_type": "code",
   "execution_count": null,
   "metadata": {},
   "outputs": [],
   "source": [
    "def return_multiple_values():\n",
    "    return 1, 2, 3\n",
    "\n",
    "a, b, c = return_multiple_values()\n",
    "print(a)\n",
    "print(b)\n",
    "print(c)"
   ]
  },
  {
   "cell_type": "code",
   "execution_count": null,
   "metadata": {},
   "outputs": [],
   "source": [
    "def return_multiple_values():\n",
    "    return 1, 2, 3\n",
    "\n",
    "print(return_multiple_values())\n",
    "print(type(return_multiple_values()))"
   ]
  },
  {
   "cell_type": "markdown",
   "metadata": {},
   "source": [
    "##### c. Chỉ duy nhất truyền list vào hàm là truyền tham chiếu"
   ]
  },
  {
   "cell_type": "markdown",
   "metadata": {},
   "source": [
    "Ở phạm vi bài học này, bạn có thể tạm hiểu list như 1 array trong C/C++"
   ]
  },
  {
   "cell_type": "markdown",
   "metadata": {},
   "source": [
    "hàm hàm, việc sửa đổi list ảnh hưởng tới list gốc"
   ]
  },
  {
   "cell_type": "code",
   "execution_count": null,
   "metadata": {},
   "outputs": [],
   "source": [
    "def change_list(lst):\n",
    "    lst.append(4)\n",
    "\n",
    "lst = [1, 2, 3]\n",
    "change_list(lst)\n",
    "print(lst)"
   ]
  },
  {
   "cell_type": "markdown",
   "metadata": {},
   "source": [
    "## II. File - Các thao tác với File"
   ]
  },
  {
   "cell_type": "markdown",
   "metadata": {},
   "source": [
    "Lưu ý: các bài thực hành liên quan tới file bạn cần phải copy code về máy, và chạy nó trên file .py và bạn không chạy code trong các ô code bên dưới. Phần này sẽ không điểm danh"
   ]
  },
  {
   "cell_type": "markdown",
   "metadata": {},
   "source": [
    "### 1. Làm việc với File"
   ]
  },
  {
   "cell_type": "markdown",
   "metadata": {},
   "source": [
    "Xử lý file là một phần vô cùng quan trọng. Các thao tác với file bao gồm tạo, đọc, cập nhật và xóa file."
   ]
  },
  {
   "cell_type": "markdown",
   "metadata": {},
   "source": [
    "- Hàm chính để làm việc với các file trong Python là hàm open().\n",
    "- Hàm open() có hai tham số; tên file (filename) và chế độ (mode).\n",
    "- Hàm open sẽ trả về 1 đối tượng file chứa các phương thức để thao tác với file\n",
    "- Có bốn phương pháp (chế độ) khác nhau để mở tệp:\n",
    "    - \"r\" - read: Đọc - Giá trị mặc định. Mở file để đọc, báo lỗi nếu file không tồn tại\n",
    "    - \"a\" - append: Nối - Mở tệp để nối thêm, tạo tệp nếu nó không tồn tại\n",
    "    - \"w\" - write: Ghi - Mở file để ghi, tạo file nếu chưa tồn tại\n",
    "    - \"x\" - create: Tạo - Tạo tệp được chỉ định, trả về lỗi nếu tệp tồn tại\n",
    "- Ngoài ra, bạn có thể chỉ định xem tệp sẽ được xử lý ở chế độ nhị phân hay văn bản\n",
    "    - \"t\" - Văn bản - Giá trị mặc định. Chế độ văn bản\n",
    "    - \"b\" - Nhị phân - Chế độ nhị phân (ví dụ: hình ảnh)"
   ]
  },
  {
   "cell_type": "markdown",
   "metadata": {},
   "source": [
    "Lý thuyết là thế, bạn chỉ cần đọc qua để hiểu"
   ]
  },
  {
   "cell_type": "markdown",
   "metadata": {},
   "source": [
    "<img src=\"https://cf-courses-data.s3.us.cloud-object-storage.appdomain.cloud/IBMDeveloperSkillsNetwork-PY0101EN-SkillsNetwork/labs/Module%204/images/ReadOpen.png\" width=\"500\" />\n"
   ]
  },
  {
   "cell_type": "markdown",
   "metadata": {},
   "source": [
    "### 2. Đọc file"
   ]
  },
  {
   "cell_type": "markdown",
   "metadata": {},
   "source": [
    "Lưu ý phải đảm bảo rằng filepath tồn tại. Nếu không, chương trình sẽ báo lỗi"
   ]
  },
  {
   "cell_type": "markdown",
   "metadata": {},
   "source": [
    "#### 2.1. Đọc file dùng hàm open"
   ]
  },
  {
   "cell_type": "markdown",
   "metadata": {},
   "source": [
    "Để đọc một file, bạn cần đường dẫn tới file. Có 2 loại đường dẫn:\n",
    "- Đường dẫn tuyệt đối (absolute path): là đường dẫn vd như C://... (đường dẫn đến file bắt đầu từ 1 ổ cứng trong máy)\n",
    "- Đường dẫn tương đối (relative path): là đường dẫn vd như .//... (đường dẫn đến file bắt đầu từ vị trí của file chứa hàm main)"
   ]
  },
  {
   "cell_type": "markdown",
   "metadata": {},
   "source": [
    "Vì là đọc nên mode truyền vào phải là 'r'"
   ]
  },
  {
   "cell_type": "code",
   "execution_count": null,
   "metadata": {},
   "outputs": [],
   "source": [
    "# với file1.txt là file text chứa dữ liệu\n",
    "f = open(\"file1.txt\", \"r\")\n",
    "\n",
    "# đọc nội dung của file bằng phương thức .read()\n",
    "print(f.read())\n",
    "\n",
    "# nên nhớ khi bạn dùng hàm open(), nghĩa là bạn đang mở file ra\n",
    "# nên bạn cần phải đóng file lại sau khi bạn đã sử dụng xong\n",
    "# nếu không, file sẽ không được giải phóng và có thể gây ra lỗi hoặc mất dữ liệu\n",
    "f.close()"
   ]
  },
  {
   "cell_type": "markdown",
   "metadata": {},
   "source": [
    "Phương thức .read() của đối tượng f trả về 1 string là toàn bộ nội dung trong file -> bạn có thể lưu nó vào 1 biến"
   ]
  },
  {
   "cell_type": "code",
   "execution_count": null,
   "metadata": {},
   "outputs": [],
   "source": [
    "f = open(\"file1.txt\", \"r\")\n",
    "string = f.read()\n",
    "f.close()\n",
    "\n",
    "# in nội dung của biến string\n",
    "print(string)"
   ]
  },
  {
   "cell_type": "markdown",
   "metadata": {},
   "source": [
    "Ngoài ra, khi truyền 1 số vào phương thức .read() lần sẽ trả về số ký tự đầu tiên và gọi lần 2 sẽ trả về số ký tự tiếp theo"
   ]
  },
  {
   "cell_type": "code",
   "execution_count": null,
   "metadata": {},
   "outputs": [],
   "source": [
    "f = open(\"file1.txt\", \"r\")\n",
    "string1 = f.read(5)\n",
    "string2 = f.read(5)\n",
    "f.close()\n",
    "\n",
    "print(string1)\n",
    "print(string2)"
   ]
  },
  {
   "cell_type": "markdown",
   "metadata": {},
   "source": [
    "Ngoài phương thức .read() còn có phương thức .readline() khi gọi lần đầu sẽ trả về dòng đầu tiên, gọi n lần sẽ trả về n dòng đầu tiên -> mỗi lần gọi sẽ trả về 1 dòng"
   ]
  },
  {
   "cell_type": "code",
   "execution_count": null,
   "metadata": {},
   "outputs": [],
   "source": [
    "f = open(\"file1.txt\", \"r\")\n",
    "line1 = f.readline()\n",
    "line2 = f.readline()\n",
    "f.close()\n",
    "\n",
    "print(line1)\n",
    "print(line2)"
   ]
  },
  {
   "cell_type": "markdown",
   "metadata": {},
   "source": [
    "Có 1 phương thức khá giống .readline() là .readlines() khi gọi sẽ trả về 1 list và mỗi phần tử trong list là 1 dòng trong file"
   ]
  },
  {
   "cell_type": "code",
   "execution_count": null,
   "metadata": {},
   "outputs": [],
   "source": [
    "f = open(\"file1.txt\", \"r\")\n",
    "lines = f.readlines()\n",
    "f.close()\n",
    "\n",
    "print(lines)"
   ]
  },
  {
   "cell_type": "markdown",
   "metadata": {},
   "source": [
    "Lưu ý các bài tập liên quan đến file nếu gặp lỗi quên đóng file sẽ bị chia đôi số điểm"
   ]
  },
  {
   "cell_type": "markdown",
   "metadata": {},
   "source": [
    "#### 2.2. Đọc file dùng mệnh đề with (Nên dùng)"
   ]
  },
  {
   "cell_type": "markdown",
   "metadata": {},
   "source": [
    "Cách tốt hơn là sử dụng câu lệnh <code>with</code>, nó sẽ tự động đóng tệp ngay cả khi code gặp phải một ngoại lệ. Code sẽ chạy mọi thứ trong khối thụt lề sau đó đóng đối tượng tệp."
   ]
  },
  {
   "cell_type": "markdown",
   "metadata": {},
   "source": [
    "- Thay vì viết như sau:\n",
    "```python\n",
    "f = open(filepath, mode)\n",
    "do sth\n",
    "f.close()\n",
    "```\n",
    "- Bạn có thể viết như bên dưới, 2 cách là như nhau:\n",
    "```python\n",
    "with open(filepath, mode) as f:\n",
    "    do sth\n",
    "```\n",
    "- Điều đó có nghĩa là khi bạn dùng with, và thao tác với file bên trong khối thụt lề thì khi hết thụt lề, file sẽ được đóng tự động\n",
    "-> dùng cách này bạn sẽ tránh việc quên đóng file dẫn tới bị trừ điểm"
   ]
  },
  {
   "cell_type": "markdown",
   "metadata": {},
   "source": [
    "Các đoạn code mẫu bên dưới sẽ sử dụng 2 cách dùng hàm open và mệnh đề if để bạn có thể đối chiếu"
   ]
  },
  {
   "cell_type": "markdown",
   "metadata": {},
   "source": [
    "Vì là đọc nên mode truyền vào phải là 'r'"
   ]
  },
  {
   "cell_type": "code",
   "execution_count": null,
   "metadata": {},
   "outputs": [],
   "source": [
    "# với file1.txt là file text chứa dữ liệu\n",
    "f = open(\"file1.txt\", \"r\")\n",
    "\n",
    "# đọc nội dung của file bằng phương thức .read()\n",
    "print(f.read())\n",
    "\n",
    "# nên nhớ khi bạn dùng hàm open(), nghĩa là bạn đang mở file ra\n",
    "# nên bạn cần phải đóng file lại sau khi bạn đã sử dụng xong\n",
    "# nếu không, file sẽ không được giải phóng và có thể gây ra lỗi hoặc mất dữ liệu\n",
    "f.close()"
   ]
  },
  {
   "cell_type": "code",
   "execution_count": null,
   "metadata": {},
   "outputs": [],
   "source": [
    "with open(\"file1.txt\", \"r\") as f:\n",
    "    print(f.read())"
   ]
  },
  {
   "cell_type": "markdown",
   "metadata": {},
   "source": [
    "Phương thức .read() của đối tượng f trả về 1 string là toàn bộ nội dung trong file -> bạn có thể lưu nó vào 1 biến"
   ]
  },
  {
   "cell_type": "code",
   "execution_count": null,
   "metadata": {},
   "outputs": [],
   "source": [
    "f = open(\"file1.txt\", \"r\")\n",
    "string = f.read()\n",
    "f.close()\n",
    "\n",
    "# in nội dung của biến string\n",
    "print(string)"
   ]
  },
  {
   "cell_type": "code",
   "execution_count": null,
   "metadata": {},
   "outputs": [],
   "source": [
    "with open(\"file1.txt\", \"r\") as f:\n",
    "    string = f.read()\n",
    "\n",
    "print(string)"
   ]
  },
  {
   "cell_type": "markdown",
   "metadata": {},
   "source": [
    "Ngoài ra, khi truyền 1 số vào phương thức .read() lần sẽ trả về số ký tự đầu tiên và gọi lần 2 sẽ trả về số ký tự tiếp theo"
   ]
  },
  {
   "cell_type": "code",
   "execution_count": null,
   "metadata": {},
   "outputs": [],
   "source": [
    "f = open(\"file1.txt\", \"r\")\n",
    "string1 = f.read(5)\n",
    "string2 = f.read(5)\n",
    "f.close()\n",
    "\n",
    "print(string1)\n",
    "print(string2)"
   ]
  },
  {
   "cell_type": "code",
   "execution_count": null,
   "metadata": {},
   "outputs": [],
   "source": [
    "with open(\"file1.txt\", \"r\") as f:\n",
    "    string1 = f.read(5)\n",
    "    string2 = f.read(5)\n",
    "\n",
    "print(string1)\n",
    "print(string2)"
   ]
  },
  {
   "cell_type": "markdown",
   "metadata": {},
   "source": [
    "Ngoài phương thức .read() còn có phương thức .readline() khi gọi lần đầu sẽ trả về dòng đầu tiên, gọi n lần sẽ trả về n dòng đầu tiên -> mỗi lần gọi sẽ trả về 1 dòng"
   ]
  },
  {
   "cell_type": "code",
   "execution_count": null,
   "metadata": {},
   "outputs": [],
   "source": [
    "f = open(\"file1.txt\", \"r\")\n",
    "line1 = f.readline()\n",
    "line2 = f.readline()\n",
    "f.close()\n",
    "\n",
    "print(line1)\n",
    "print(line2)"
   ]
  },
  {
   "cell_type": "code",
   "execution_count": null,
   "metadata": {},
   "outputs": [],
   "source": [
    "with open(\"file1.txt\", \"r\") as f:\n",
    "    line1 = f.readline()\n",
    "    line2 = f.readline()\n",
    "\n",
    "print(line1)\n",
    "print(line2)"
   ]
  },
  {
   "cell_type": "markdown",
   "metadata": {},
   "source": [
    "Có 1 phương thức khá giống .readline() là .readlines() khi gọi sẽ trả về 1 list và mỗi phần tử trong list là 1 dòng trong file"
   ]
  },
  {
   "cell_type": "code",
   "execution_count": null,
   "metadata": {},
   "outputs": [],
   "source": [
    "f = open(\"file1.txt\", \"r\")\n",
    "lines = f.readlines()\n",
    "f.close()\n",
    "\n",
    "print(lines)"
   ]
  },
  {
   "cell_type": "code",
   "execution_count": null,
   "metadata": {},
   "outputs": [],
   "source": [
    "with open(\"file1.txt\", \"r\") as f:\n",
    "    lines = f.readlines()\n",
    "\n",
    "print(lines)"
   ]
  },
  {
   "cell_type": "markdown",
   "metadata": {},
   "source": [
    "### 3. Ghi file"
   ]
  },
  {
   "cell_type": "markdown",
   "metadata": {},
   "source": [
    "Bạn cũng có thể ghi file bằng hàm open và cách làm tương tự như việc đọc file nhưng sử dụng mode 'w' hoặc 'a' thay vì mode 'r'. Tuy nhiên nó không hiệu quả nên ở bên dưới tôi sẽ chỉ đề cập tới cách ghi file bằng mệnh đề with"
   ]
  },
  {
   "cell_type": "markdown",
   "metadata": {},
   "source": [
    "#### 3.1. Ghi file bằng mode 'w': tạo file mới nếu file không tồn tại; nếu file đã tồn tại, thực hiện xoá đi và tạo file mới"
   ]
  },
  {
   "cell_type": "markdown",
   "metadata": {},
   "source": [
    "Để ghi 1 hoặc nhiều string vào file, bạn cần dùng method .write()"
   ]
  },
  {
   "cell_type": "code",
   "execution_count": null,
   "metadata": {},
   "outputs": [],
   "source": [
    "with open(\"file2.txt\", \"w\") as f:\n",
    "    f.write(\"Hello, World!\")"
   ]
  },
  {
   "cell_type": "markdown",
   "metadata": {},
   "source": [
    "khi dùng method write từ lần 2 trở lên, sẽ khi nội dung vào đuôi file (không tự xuống dòng mà khi vào kế tiếp)"
   ]
  },
  {
   "cell_type": "code",
   "execution_count": null,
   "metadata": {},
   "outputs": [],
   "source": [
    "with open(\"file2.txt\", \"w\") as f:\n",
    "    f.write(\"this is line 1\")\n",
    "    f.write(\"this is line 2\")"
   ]
  },
  {
   "cell_type": "markdown",
   "metadata": {},
   "source": [
    "Bạn chỉ có thể ghi string vào file, nếu không, chương trình sẽ báo lỗi"
   ]
  },
  {
   "cell_type": "code",
   "execution_count": null,
   "metadata": {},
   "outputs": [],
   "source": [
    "with open(\"file2.txt\", \"w\") as f:\n",
    "    f.write(2)"
   ]
  },
  {
   "cell_type": "markdown",
   "metadata": {},
   "source": [
    "#### 3.2. Ghi file bằng mode 'a': tạo file mới nếu file không tồn tại; nếu file đã tồn tại, ghi tiếp vào đuôi file"
   ]
  },
  {
   "cell_type": "markdown",
   "metadata": {},
   "source": [
    "Cách làm tương tự với mode 'w', chỉ khác chức năng"
   ]
  },
  {
   "cell_type": "code",
   "execution_count": null,
   "metadata": {},
   "outputs": [],
   "source": [
    "with open(\"file3.txt\", \"a\") as f:\n",
    "    f.write(\"Hello, World!\")"
   ]
  },
  {
   "cell_type": "code",
   "execution_count": null,
   "metadata": {},
   "outputs": [],
   "source": [
    "with open(\"file3.txt\", \"a\") as f:\n",
    "    f.write(\"Hello, World!\")"
   ]
  },
  {
   "cell_type": "markdown",
   "metadata": {},
   "source": [
    "### 4. Xoá file"
   ]
  },
  {
   "cell_type": "markdown",
   "metadata": {},
   "source": [
    "Dùng module os"
   ]
  },
  {
   "cell_type": "code",
   "execution_count": null,
   "metadata": {},
   "outputs": [],
   "source": [
    "import os\n",
    "os.remove(\"file3.txt\")"
   ]
  },
  {
   "cell_type": "markdown",
   "metadata": {},
   "source": [
    "Nếu file không tồn tại sẽ báo lỗi"
   ]
  },
  {
   "cell_type": "code",
   "execution_count": null,
   "metadata": {},
   "outputs": [],
   "source": [
    "os.remove(\"file10.txt\")"
   ]
  },
  {
   "cell_type": "markdown",
   "metadata": {},
   "source": [
    "### 5. Xoá folder"
   ]
  },
  {
   "cell_type": "code",
   "execution_count": null,
   "metadata": {},
   "outputs": [],
   "source": [
    "import os\n",
    "os.rmdir(\"myfolder\")"
   ]
  },
  {
   "cell_type": "markdown",
   "metadata": {},
   "source": [
    "Lưu ý rằng bạn chỉ có thể xoá 1 folder rỗng"
   ]
  },
  {
   "cell_type": "markdown",
   "metadata": {},
   "source": [
    "## III. Mô-đun Math"
   ]
  },
  {
   "cell_type": "markdown",
   "metadata": {},
   "source": [
    "### Khái niệm Mô-đun (module)"
   ]
  },
  {
   "cell_type": "markdown",
   "metadata": {},
   "source": [
    "Trong lập trình, một mô đun (module) là một tập hợp các định nghĩa chương trình và thực hiện, bao gồm các biến và hàm, được nhóm lại với nhau theo một cách thức tổ chức để có thể tái sử dụng và cô lập."
   ]
  },
  {
   "cell_type": "markdown",
   "metadata": {},
   "source": [
    "Trong Python, một mô đun là một file .py chứa Python code. Ví dụ, mô đun math cung cấp các hàm toán học như sqrt (căn bậc hai), sin (hàm sin), log (hàm logarit), v.v."
   ]
  },
  {
   "cell_type": "markdown",
   "metadata": {},
   "source": [
    "Bạn có thể tạm hiểu module giống như thư viện, và trong python, để sử dụng lệnh ```import```, và các hàm trong thư viện được sử dụng như 1 phương thức của đối tượng là tên của hàm"
   ]
  },
  {
   "cell_type": "markdown",
   "metadata": {},
   "source": [
    "#### ví dụ sử dụng thư viện math, có hàm căn bậc 2 sqrt"
   ]
  },
  {
   "cell_type": "code",
   "execution_count": null,
   "metadata": {},
   "outputs": [],
   "source": [
    "import math\n",
    "\n",
    "print(math.sqrt(16))"
   ]
  },
  {
   "cell_type": "markdown",
   "metadata": {},
   "source": [
    "Ngoài ra, bạn cũng có thể đổi tên đối tượng module nếu tên mủa module dài bằng cách sử dụng alias như sau:"
   ]
  },
  {
   "cell_type": "code",
   "execution_count": null,
   "metadata": {},
   "outputs": [],
   "source": [
    "import math as m\n",
    "\n",
    "print(m.sqrt(16))"
   ]
  },
  {
   "cell_type": "markdown",
   "metadata": {},
   "source": [
    "### Việc học một module đồng nghĩa với việc học cách sử dụng các hàm trong đó."
   ]
  },
  {
   "cell_type": "markdown",
   "metadata": {},
   "source": [
    "Xem các hàm của module math trong link sau và thực hành sử dụng các hàm đó"
   ]
  },
  {
   "cell_type": "markdown",
   "metadata": {},
   "source": [
    "https://www.w3schools.com/python/module_math.asp"
   ]
  },
  {
   "cell_type": "markdown",
   "metadata": {},
   "source": [
    "# B. Đọc hiểu"
   ]
  },
  {
   "cell_type": "markdown",
   "metadata": {},
   "source": [
    "## 1. Đệ quy"
   ]
  },
  {
   "cell_type": "markdown",
   "metadata": {},
   "source": [
    "Mục này bạn chỉ đọc để biết sơ qua, chưa cần hiểu và ứng dụng. Bạn sẽ được học lại trong Module Cấu trúc dữ liệu và giải thuật"
   ]
  },
  {
   "cell_type": "markdown",
   "metadata": {},
   "source": [
    "https://codelearn.io/sharing/de-quy-sieu-co-ban-cho-nguoi-moi-bat-dau"
   ]
  },
  {
   "cell_type": "markdown",
   "metadata": {},
   "source": [
    "## 2. Phương thức (Method)"
   ]
  },
  {
   "cell_type": "markdown",
   "metadata": {},
   "source": [
    "Để hiểu được khái niệm phương thức, bạn cần hiểu class là gì. Khi đó phương thức là hàm của một class"
   ]
  },
  {
   "cell_type": "markdown",
   "metadata": {},
   "source": [
    "Có thể coi phương thức như hàm tự định nghĩa. Nhưng khác ở chỗ để sử dụng nó thì cần phải có một đối tượng tương ứng"
   ]
  },
  {
   "cell_type": "markdown",
   "metadata": {},
   "source": [
    "Ở phạm vi bài học này, bạn chỉ cần nhớ dạng ```func_name(argument)``` là hàm, còn ```.func_name(argument)``` là phương thức"
   ]
  },
  {
   "cell_type": "markdown",
   "metadata": {},
   "source": [
    "Ví dụ: ```print()``` là hàm, còn ```f.write()``` là phương thức"
   ]
  },
  {
   "cell_type": "markdown",
   "metadata": {},
   "source": [
    "## 3. Các phương thức khác với đối tượng f trong file"
   ]
  },
  {
   "cell_type": "markdown",
   "metadata": {},
   "source": [
    "Khi bạn đã nhận được đối tượng file từ hàm open, bạn có thể thực hiện 1 số thao tác sau"
   ]
  },
  {
   "cell_type": "markdown",
   "metadata": {},
   "source": [
    "#### 3.1. Kiểm tra tên file"
   ]
  },
  {
   "cell_type": "code",
   "execution_count": null,
   "metadata": {},
   "outputs": [],
   "source": [
    "with open(\"file1.txt\", \"r\") as f:\n",
    "    print(f.name)"
   ]
  },
  {
   "cell_type": "markdown",
   "metadata": {},
   "source": [
    "#### 3.2. Kiểm tra chế độ mở file"
   ]
  },
  {
   "cell_type": "code",
   "execution_count": null,
   "metadata": {},
   "outputs": [],
   "source": [
    "with open(\"file1.txt\", \"r\") as f:\n",
    "    print(f.mode)"
   ]
  },
  {
   "cell_type": "markdown",
   "metadata": {},
   "source": [
    "## 4. Các mode khác trong file"
   ]
  },
  {
   "cell_type": "markdown",
   "metadata": {},
   "source": [
    "Việc mở tệp bằng  **a** hoặc **w** và sau đó mở lại trong **r** để đọc bất kỳ dòng nào khá là không hiệu quả. May mắn thay, chúng ta có thể truy cập tệp ở các mode sau:\n",
    "\n",
    "-   **r+**  Đọc và ghi. Không thể cắt ngắn tệp.\n",
    "-   **w+** : Ghi và đọc. Cắt bớt tệp.\n",
    "-   **a+** : Ghi thêm và Đọc. Tạo một tệp mới, nếu không có tệp nào tồn tại. Bạn không cần phải tìm hiểu chi tiết cụ thể của từng mode cho lab này.\n"
   ]
  },
  {
   "cell_type": "markdown",
   "metadata": {},
   "source": [
    "Hãy thử mode **a+**:\n"
   ]
  },
  {
   "cell_type": "code",
   "execution_count": null,
   "metadata": {},
   "outputs": [],
   "source": [
    "with open('Example.txt', 'a+') as testwritefile:\n",
    "    testwritefile.write(\"This is line E\\n\")\n",
    "    print(testwritefile.read())"
   ]
  },
  {
   "cell_type": "markdown",
   "metadata": {},
   "source": [
    "Không có lỗi nhưng <code>read() </code> cũng không xuất ra bất kỳ thứ gì. Điều này là do vị trí của chúng ta trong tệp."
   ]
  },
  {
   "cell_type": "markdown",
   "metadata": {},
   "source": [
    "Hầu hết các phương thức tệp mà chúng ta đã xem đều hoạt động ở một vị trí nhất định trong tệp. <code>.write() </code> ghi tại một vị trí nhất định trong tệp. <code>.read()</code> đọc tại một vị trí nhất định trong tệp, v.v. Bạn có thể coi điều này giống như việc di chuyển con trỏ của bạn trong sổ ghi chú để thực hiện các thay đổi tại vị trí cụ thể.\n"
   ]
  },
  {
   "cell_type": "markdown",
   "metadata": {},
   "source": [
    "Mở tệp trong **w** cũng giống như mở tệp .txt, di chuyển con trỏ của bạn đến đầu tệp văn bản, viết văn bản mới và xóa mọi thứ sau đó.\n",
    "Trong khi đó, việc mở tệp bằng **a** tương tự như mở tệp .txt, di chuyển con trỏ của bạn đến cuối và sau đó thêm các đoạn văn bản mới. <br>\n",
    "Thường rất hữu ích khi biết vị trí của 'cursor' (con trỏ) trong tệp và có thể kiểm soát nó. Các phương pháp sau đây cho phép chúng ta thực hiện chính xác điều này -\n",
    "\n",
    "-   <code>.tell()</code> - trả về vị trí hiện tại tính bằng byte\n",
    "-   <code>.seek(offset,from)</code> - thay đổi vị trí của byte 'offset' đối với 'from'. From có thể lấy giá trị 0,1,2 tương ứng với phần đầu, liên quan đến vị trí hiện tại và kết thúc\n"
   ]
  },
  {
   "cell_type": "markdown",
   "metadata": {},
   "source": [
    "Bây giờ ta hãy quay lại với **a+**\n"
   ]
  },
  {
   "cell_type": "code",
   "execution_count": null,
   "metadata": {},
   "outputs": [],
   "source": [
    "with open('Example.txt', 'a+') as testwritefile:\n",
    "    print(\"Initial Location: {}\".format(testwritefile.tell()))\n",
    "\n",
    "    data = testwritefile.read()\n",
    "    if (not data):  #empty strings return false in python\n",
    "            print('Read nothing')\n",
    "    else:\n",
    "            print(testwritefile.read())\n",
    "\n",
    "    testwritefile.seek(0,0) # move 0 bytes from beginning.\n",
    "\n",
    "    print(\"\\nNew Location : {}\".format(testwritefile.tell()))\n",
    "    data = testwritefile.read()\n",
    "    if (not data):\n",
    "            print('Read nothing')\n",
    "    else:\n",
    "            print(data)\n",
    "\n",
    "    print(\"Location after read: {}\".format(testwritefile.tell()) )"
   ]
  },
  {
   "cell_type": "markdown",
   "metadata": {},
   "source": [
    "Cuối cùng, một lưu ý về sự khác biệt giữa **w+** và **r+**. Cả hai mode này đều cho phép truy cập các phương thức đọc và ghi. Tuy nhiên, việc mở tệp trong **w+** sẽ ghi đè tệp đó và xóa tất cả dữ liệu hiện có. <br>\n",
    "Để làm việc với tệp trên dữ liệu hiện có, hãy sử dụng **r+** và **a+**. Trong khi sử dụng **r+**, bạn nên thêm phương thức <code>.truncate()</code> vào cuối dữ liệu của bạn. Điều này sẽ giảm tệp dữ liệu của bạn và xóa mọi thứ đi cùng  phần giảm đó. <br>\n",
    "Trong khối code sau, Chạy code như lúc đầu và sau đó chạy nó với <code>.truncate()</code>.\n"
   ]
  },
  {
   "cell_type": "code",
   "execution_count": null,
   "metadata": {},
   "outputs": [],
   "source": [
    "with open('Example.txt', 'r+') as testwritefile:\n",
    "    data = testwritefile.readlines()\n",
    "    testwritefile.seek(0,0) #write at beginning of file\n",
    "\n",
    "    testwritefile.write(\"Line 1\" + \"\\n\")\n",
    "    testwritefile.write(\"Line 2\" + \"\\n\")\n",
    "    testwritefile.write(\"Line 3\" + \"\\n\")\n",
    "    testwritefile.write(\"finished\\n\")\n",
    "    # #Uncomment the line below\n",
    "    testwritefile.truncate()\n",
    "    testwritefile.seek(0,0)\n",
    "    print(testwritefile.read())\n"
   ]
  },
  {
   "cell_type": "markdown",
   "metadata": {},
   "source": [
    "<hr>\n",
    "Nguồn: IBM\n",
    "<hr>"
   ]
  },
  {
   "cell_type": "markdown",
   "metadata": {},
   "source": [
    "## 5. Container Data types"
   ]
  },
  {
   "cell_type": "markdown",
   "metadata": {},
   "source": [
    "Phần này chỉ mang tính chất giới thiệu sơ, sẽ được học chi tiết ở Day_4"
   ]
  },
  {
   "cell_type": "markdown",
   "metadata": {},
   "source": [
    "Chúng ta đã học qua về các kiểu dữ liệu cơ bản như int, float, string, ..."
   ]
  },
  {
   "cell_type": "markdown",
   "metadata": {},
   "source": [
    "Hôm nay, chúng ta sẽ học về kiểu dữ liệu container. Giống như cái tên, một biến mang kiểu dữ liệu container có thể chứa rất nhiều các giá trị thuộc các kiểu dữ liệu cơ bản khác nhau, thay vì chỉ 1 giá trị như các biến có kiểu dữ liệu cơ bản"
   ]
  },
  {
   "cell_type": "markdown",
   "metadata": {},
   "source": [
    "Trong Python, có 4 kiểu dữ liệu container và mỗi lạoi có 1 công dụng khác nhau, bao gồm:\n",
    "\n",
    "1. List (Danh sách): Danh sách là tập hợp các mục có thể thuộc bất kỳ loại dữ liệu nào, bao gồm chuỗi, số nguyên, số thực và các danh sách khác.\n",
    "2. Tuple (Bộ dữ liệu): Bộ dữ liệu là tập hợp các mục có thể thuộc bất kỳ loại dữ liệu nào, bao gồm chuỗi, số nguyên, số thực và các bộ dữ liệu khác.\n",
    "3. Dictionary (Từ điển): Từ điển là tập hợp các cặp khóa-giá trị, trong đó mỗi khóa là duy nhất và ánh xạ tới một giá trị cụ thể.\n",
    "4. Set (Tập hợp): Tập hợp là tập hợp các phần tử duy nhất, không trùng lặp."
   ]
  },
  {
   "cell_type": "markdown",
   "metadata": {},
   "source": [
    "Hãy hình dung công dụng của từng loại trên tên của nó, tìm ra mối liên hệ giữa tên và công dụng của nó để ghi nhớ tốt hơn"
   ]
  }
 ],
 "metadata": {
  "kernelspec": {
   "display_name": "aMs_3.11",
   "language": "python",
   "name": "python3"
  },
  "language_info": {
   "codemirror_mode": {
    "name": "ipython",
    "version": 3
   },
   "file_extension": ".py",
   "mimetype": "text/x-python",
   "name": "python",
   "nbconvert_exporter": "python",
   "pygments_lexer": "ipython3",
   "version": "3.11.8"
  }
 },
 "nbformat": 4,
 "nbformat_minor": 2
}
